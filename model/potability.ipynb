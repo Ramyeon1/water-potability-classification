{
 "cells": [
  {
   "cell_type": "code",
   "execution_count": 1,
   "metadata": {},
   "outputs": [],
   "source": [
    "# Import libraries\n",
    "import pandas as pd\n",
    "from sklearn.naive_bayes import GaussianNB\n",
    "from sklearn.model_selection import train_test_split\n",
    "from sklearn.metrics import accuracy_score\n",
    "\n",
    "import seaborn as sns\n",
    "from fancyimpute import KNN\n",
    "import math"
   ]
  },
  {
   "cell_type": "code",
   "execution_count": 2,
   "metadata": {},
   "outputs": [
    {
     "name": "stdout",
     "output_type": "stream",
     "text": [
      "            ph    Hardness        Solids  Chloramines     Sulfate  \\\n",
      "0          NaN  204.890455  20791.318981     7.300212  368.516441   \n",
      "1     3.716080  129.422921  18630.057858     6.635246         NaN   \n",
      "2     8.099124  224.236259  19909.541732     9.275884         NaN   \n",
      "3     8.316766  214.373394  22018.417441     8.059332  356.886136   \n",
      "4     9.092223  181.101509  17978.986339     6.546600  310.135738   \n",
      "...        ...         ...           ...          ...         ...   \n",
      "3271  4.668102  193.681735  47580.991603     7.166639  359.948574   \n",
      "3272  7.808856  193.553212  17329.802160     8.061362         NaN   \n",
      "3273  9.419510  175.762646  33155.578218     7.350233         NaN   \n",
      "3274  5.126763  230.603758  11983.869376     6.303357         NaN   \n",
      "3275  7.874671  195.102299  17404.177061     7.509306         NaN   \n",
      "\n",
      "      Conductivity  Organic_carbon  Trihalomethanes  Turbidity  Potability  \n",
      "0       564.308654       10.379783        86.990970   2.963135           0  \n",
      "1       592.885359       15.180013        56.329076   4.500656           0  \n",
      "2       418.606213       16.868637        66.420093   3.055934           0  \n",
      "3       363.266516       18.436524       100.341674   4.628771           0  \n",
      "4       398.410813       11.558279        31.997993   4.075075           0  \n",
      "...            ...             ...              ...        ...         ...  \n",
      "3271    526.424171       13.894419        66.687695   4.435821           1  \n",
      "3272    392.449580       19.903225              NaN   2.798243           1  \n",
      "3273    432.044783       11.039070        69.845400   3.298875           1  \n",
      "3274    402.883113       11.168946        77.488213   4.708658           1  \n",
      "3275    327.459760       16.140368        78.698446   2.309149           1  \n",
      "\n",
      "[3276 rows x 10 columns]\n"
     ]
    }
   ],
   "source": [
    "# Import dataset\n",
    "data = pd.read_csv('..\\dataset\\water_potability.csv')\n",
    "print(data)"
   ]
  },
  {
   "cell_type": "code",
   "execution_count": null,
   "metadata": {},
   "outputs": [],
   "source": [
    "# Data Cleaning\n",
    "# Plot missing data\n",
    "sns.heatmap(data.isnull(), cbar=False)"
   ]
  },
  {
   "cell_type": "code",
   "execution_count": null,
   "metadata": {},
   "outputs": [],
   "source": [
    "# Fill missing values using KNN\n",
    "data_filled = pd.DataFrame(KNN(k=3).fit_transform(data))\n",
    "columns = data.columns\n",
    "data = data_filled\n",
    "data.columns = columns\n",
    "sns.heatmap(data.isnull(), cbar=False)"
   ]
  },
  {
   "cell_type": "code",
   "execution_count": null,
   "metadata": {},
   "outputs": [],
   "source": [
    "# Data Analysis\n",
    "for col in data.columns.drop(data.columns[-1]):\n",
    "    sns.displot(data, x=col, hue=\"Potability\", multiple=\"stack\")"
   ]
  },
  {
   "cell_type": "code",
   "execution_count": null,
   "metadata": {},
   "outputs": [],
   "source": [
    "# Model\n",
    "features = data.columns[-1]\n",
    "target = \"Potability\"\n",
    "\n"
   ]
  }
 ],
 "metadata": {
  "kernelspec": {
   "display_name": "Python 3.10.2 64-bit",
   "language": "python",
   "name": "python3"
  },
  "language_info": {
   "codemirror_mode": {
    "name": "ipython",
    "version": 3
   },
   "file_extension": ".py",
   "mimetype": "text/x-python",
   "name": "python",
   "nbconvert_exporter": "python",
   "pygments_lexer": "ipython3",
   "version": "3.10.2"
  },
  "orig_nbformat": 4,
  "vscode": {
   "interpreter": {
    "hash": "2746e8cd9b8b5d9651898c45cec38a5aeafa0a98cfd563beb1f7fc1f9161288b"
   }
  }
 },
 "nbformat": 4,
 "nbformat_minor": 2
}

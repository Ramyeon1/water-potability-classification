{
 "cells": [
  {
   "cell_type": "code",
   "execution_count": null,
   "metadata": {},
   "outputs": [],
   "source": [
    "import pandas as pd\n",
    "import numpy as np\n",
    "\n",
    "from sklearn.naive_bayes import GaussianNB\n",
    "from sklearn.model_selection import train_test_split\n",
    "from sklearn.metrics import confusion_matrix,accuracy_score\n",
    "import seaborn as sns\n",
    "import matplotlib.pyplot as plt"
   ]
  },
  {
   "cell_type": "code",
   "execution_count": null,
   "metadata": {},
   "outputs": [],
   "source": [
    "dataset = pd.read_csv('..\\dataset\\water_potability_final.csv')\n",
    "dataset.describe()"
   ]
  },
  {
   "cell_type": "code",
   "execution_count": null,
   "metadata": {},
   "outputs": [],
   "source": [
    "# Conditions for attribute levels\n",
    "\n",
    "def ph(x):\n",
    "    if x<6.5:\n",
    "        return 0\n",
    "    elif x<=8.5 and x>=6.5:\n",
    "        return 1\n",
    "    else:\n",
    "        return 2\n",
    "\n",
    "def hard(x):\n",
    "    if x<60:\n",
    "        return 0\n",
    "    elif x<=120 and x>=60:\n",
    "        return 1\n",
    "    else:\n",
    "        return 2\n",
    "\n",
    "def tds(x):\n",
    "    if x<50:\n",
    "        return 0\n",
    "    elif x<=150 and x>=50:\n",
    "        return 1\n",
    "    else:\n",
    "        return 2\n",
    "\n",
    "def chlr(x):\n",
    "    if x<=4:\n",
    "        return 0\n",
    "    else:\n",
    "        return 1\n",
    "\n",
    "def slft(x):\n",
    "    if x<250:\n",
    "        return 0\n",
    "    else:\n",
    "        return 1\n",
    "\n",
    "def cdty(x):\n",
    "    if x<=400:\n",
    "        return 0\n",
    "    else:\n",
    "        return 1\n",
    "\n",
    "def crbn(x):\n",
    "    if x<4:\n",
    "        return 0\n",
    "    else:\n",
    "        return 1\n",
    "\n",
    "def thts(x):\n",
    "    if x<=80:\n",
    "        return 0\n",
    "    else:\n",
    "        return 1\n",
    "\n",
    "def tbty(x):\n",
    "    if x<5:\n",
    "        return 0\n",
    "    else:\n",
    "        return 1"
   ]
  },
  {
   "cell_type": "code",
   "execution_count": null,
   "metadata": {},
   "outputs": [],
   "source": [
    "X = dataset.drop(['Potability'], axis=1)\n",
    "y = dataset['Potability']\n",
    "X"
   ]
  },
  {
   "cell_type": "code",
   "execution_count": null,
   "metadata": {},
   "outputs": [],
   "source": [
    "\n",
    "cond = [ph,hard,tds, chlr, slft, cdty, crbn, thts, tbty]\n",
    "col = X.columns.values\n",
    "data = pd.DataFrame(columns=col)\n",
    "\n",
    "for i in range(len(col)):\n",
    "    data[col[i]] = dataset[col[i]].apply(cond[i])\n",
    "X = data\n",
    "print(X)"
   ]
  },
  {
   "cell_type": "code",
   "execution_count": null,
   "metadata": {},
   "outputs": [],
   "source": [
    "X_train, X_valid, y_train, y_valid = train_test_split(X, y, test_size = 0.30, random_state= 41)\n",
    "NB = GaussianNB()\n",
    "NB.fit(X_train.values, y_train.values)\n",
    "y_pred = NB.predict(X_valid.values)\n",
    "colors= sns.color_palette(\"mako\", 10)\n",
    "cm = confusion_matrix(y_valid, y_pred)\n",
    "sns.heatmap(cm, annot=True, fmt='d', cmap=colors)\n",
    "acc = round(accuracy_score(y_valid, y_pred), 4)\n",
    "acc"
   ]
  },
  {
   "cell_type": "code",
   "execution_count": null,
   "metadata": {},
   "outputs": [],
   "source": [
    "colors= sns.color_palette(\"mako\", 10)\n",
    "plt.figure(figsize=(12,8))\n",
    "corr_matrix = dataset.corr()\n",
    "sns.heatmap(corr_matrix, annot=True, cmap=colors)"
   ]
  },
  {
   "cell_type": "code",
   "execution_count": null,
   "metadata": {},
   "outputs": [],
   "source": [
    "def pred(par):\n",
    "    cond = [ph,hard,tds, chlr, slft, cdty, crbn, thts, tbty]\n",
    "    \n",
    "    vals = []\n",
    "    for i in range(len(par)):\n",
    "        vals += [cond[i](par[i])]\n",
    "    print(vals)\n",
    "    ans = NB.predict([vals])\n",
    "    \n",
    "    if(ans == 1):\n",
    "        p = 'Potable'\n",
    "    else:\n",
    "        p = 'Not Potable'\n",
    "    \n",
    "    new_row = {'ph':par[0],'Hardness':par[1],'Solids':par[2],'Chloramines':par[3],'Sulfate':par[4],'Conductivity':par[5],'Organic_carbon':par[6],'Trihalomethanes':par[7],'Turbidity':par[8],'Prediction':p}\n",
    "    \n",
    "    '''df = pd.read_csv('trial_logs.csv')\n",
    "    df = df.append(par, ignore_index=True)\n",
    "    df.to_csv('trial_logs.csv')\n",
    "'''\n",
    "    return p\n",
    "\n",
    "print(pred([0,0,0,0,0,0,0,0,0]))"
   ]
  }
 ],
 "metadata": {
  "kernelspec": {
   "display_name": "Python 3.10.2 64-bit",
   "language": "python",
   "name": "python3"
  },
  "language_info": {
   "codemirror_mode": {
    "name": "ipython",
    "version": 3
   },
   "file_extension": ".py",
   "mimetype": "text/x-python",
   "name": "python",
   "nbconvert_exporter": "python",
   "pygments_lexer": "ipython3",
   "version": "3.10.2"
  },
  "orig_nbformat": 4,
  "vscode": {
   "interpreter": {
    "hash": "2746e8cd9b8b5d9651898c45cec38a5aeafa0a98cfd563beb1f7fc1f9161288b"
   }
  }
 },
 "nbformat": 4,
 "nbformat_minor": 2
}
